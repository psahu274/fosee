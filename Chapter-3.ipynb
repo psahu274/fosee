{
 "cells": [
  {
   "cell_type": "markdown",
   "metadata": {},
   "source": [
    "# Chapter 3 : Convective Mass Transfer and Mass Transfer Coefficient"
   ]
  },
  {
   "cell_type": "markdown",
   "metadata": {},
   "source": [
    "## Example 3.2 Page no. 80"
   ]
  },
  {
   "cell_type": "code",
   "execution_count": 6,
   "metadata": {
    "collapsed": false
   },
   "outputs": [
    {
     "name": "stdout",
     "output_type": "stream",
     "text": [
      "(a)\n",
      "(i) Mass transfer-coefficient is 2.161E-03 kmol/(m^2.s.dy)\n",
      "(ii) Mass transfer-coefficient is 2.003E-03 kmol/(m^2.s.dy)\n",
      "(iii) Mass transfer-coefficient is 0.0449 m/s\n",
      "Coefficient of Fg: 0.0021 kmol/m^2.s\n",
      "(b)\n",
      "(i) kG: 2.400E-06 lbmol/s.ft^2.psi\n",
      "(ii) kG:  1.344 lbmol/h.ft^2.atm\n",
      "(iii) kG: 4.503E-02 lbmol/h.ft^2.inchHg\n",
      "Thickness of the stagnant film is: 2.4E-04 m\n"
     ]
    }
   ],
   "source": [
    "#given data\n",
    "from math import log\n",
    "P = 900.3       #pressure in mmHg\n",
    "R = 0.08317     #m^3.bar/kmol.k\n",
    "T = 300         #in K\n",
    "kG = 2.4E-6     #gas phase mass transfer coefficient\n",
    "ky = P*kG\n",
    "print '(a)'\n",
    "print '(i) Mass transfer-coefficient is %0.3E'%ky,'kmol/(m^2.s.dy)'\n",
    "pA1 = 0.0877     #vapor pressure of alochol in bar\n",
    "pB1 = (1.2 - 0.0877)*760/1.013      #in mmHg\n",
    "pA2 = 0\n",
    "pB2 = 1.2*760/1.013   #in mmHg\n",
    "kY = kG*pB1*pB2/P\n",
    "print '(ii) Mass transfer-coefficient is %0.3E'%kY,'kmol/(m^2.s.dy)'\n",
    "kc = kG*(760/1.013)*R*T\n",
    "print '(iii) Mass transfer-coefficient is %0.4f'%kc,'m/s'\n",
    "Fg = kG*(pB2-pB1)/(log(pB2/pB1))\n",
    "print 'Coefficient of Fg: %0.4f'%Fg,'kmol/m^2.s'\n",
    "print '(b)'\n",
    "kGo = kG\n",
    "kG1 = kG*2.2046*51.7/10.764\n",
    "print '(i) kG: %0.3E'%kG,'lbmol/s.ft^2.psi'\n",
    "kG2 = kG1*3600*14.69\n",
    "print '(ii) kG: ',round(kG2,3),'lbmol/h.ft^2.atm'\n",
    "kG3 = kG*2.2046*3600/(10.764*0.0393)\n",
    "print '(iii) kG: %0.3E'%kG3,'lbmol/h.ft^2.inchHg'\n",
    "pB2 = 1.2\n",
    "pB1 = 1.2 - 0.0877\n",
    "P = 1.2\n",
    "Dab = 0.102*(1.013/1.185)*((300.0/273)**1.75)*1e-4     #Diffusivity value at 1.2bar and 300K\n",
    "pBM = (pB2-pB1)/log(pB2/pB1)\n",
    "kG4 = kG*(760/1.013)\n",
    "d = Dab*P/(kG4*R*T*pBM)\n",
    "print 'Thickness of the stagnant film is: %0.1E'%d,'m'\n",
    "#Answers may vary due to round off error"
   ]
  },
  {
   "cell_type": "markdown",
   "metadata": {},
   "source": [
    "## Example 3.5 Page no. 99"
   ]
  },
  {
   "cell_type": "code",
   "execution_count": 2,
   "metadata": {
    "collapsed": false
   },
   "outputs": [
    {
     "name": "stdout",
     "output_type": "stream",
     "text": [
      "Diffusivity of H2S in water at 25C Dab: 1.17E-09 m^2/s\n"
     ]
    }
   ],
   "source": [
    "#given data\n",
    "Q = 13.2e-6       #liquid flow rate (pi*r^2*v)\n",
    "l = 0.05          #length of the jet\n",
    "W = 34            #Molecular weight of H2S\n",
    "P = 1.03          #total pressure in the jet chamber\n",
    "Cai = P*(0.1136)    #kmol/m^3\n",
    "Cab = 0\n",
    "Rate = (4.42e-7)/W   #in m^3/s\n",
    "#let Dab = 1\n",
    "Dab = 1\n",
    "rate = 4*((Dab*Q*l)**0.5)*Cai\n",
    "Dab = ((Rate/(4*Cai))**2)/(Q*l)\n",
    "print 'Diffusivity of H2S in water at 25C Dab: %0.2E m^2/s'%Dab"
   ]
  },
  {
   "cell_type": "markdown",
   "metadata": {},
   "source": [
    "## Example 3.6 Page no. 100"
   ]
  },
  {
   "cell_type": "code",
   "execution_count": 3,
   "metadata": {
    "collapsed": false
   },
   "outputs": [
    {
     "name": "stdout",
     "output_type": "stream",
     "text": [
      "Rate of absorption of CO2 from the bubbles per minute: 4.760E-05 gmol/min\n"
     ]
    }
   ],
   "source": [
    "#given data\n",
    "from math import pi\n",
    "tc = 1.0/20                   #contact time of a liquid element with a gas bubble db/vb\n",
    "Dab = 2.19e-5\n",
    "kL = 2*(Dab/(pi*tc))**0.5   #Mass transfer coefficient\n",
    "tr = 0.3/0.2                #residence time of a single bubble\n",
    "r = 1.0/2                     #radius of the bubble\n",
    "vol = (4.0/3)*pi*(r**3)       #volume of the bubble\n",
    "area = 4*pi*(r**2)          #surface area of the bubble\n",
    "Cs = 1.493e-5               #solubility of CO2 water\n",
    "Cb = 0\n",
    "Amt = kL*area*(Cs-Cb)*tr    #amount of CO2 absorbed from a single bubble during its residence time\n",
    "Bub = 15/vol\n",
    "rate = Amt*Bub\n",
    "print 'Rate of absorption of CO2 from the bubbles per minute: %0.3E gmol/min'%rate\n",
    "#Answer vary due to round off error"
   ]
  },
  {
   "cell_type": "markdown",
   "metadata": {},
   "source": [
    "## Example 3.7 Page no.101"
   ]
  },
  {
   "cell_type": "code",
   "execution_count": 4,
   "metadata": {
    "collapsed": false
   },
   "outputs": [
    {
     "name": "stdout",
     "output_type": "stream",
     "text": [
      "(a)\n",
      "Film thickness: 2.16e-05 m\n",
      "(b)\n",
      "The contact time: 0.308 s\n",
      "(c)\n",
      "The fractional rate of surface renewal: 4.13 per sec\n"
     ]
    }
   ],
   "source": [
    "#given data\n",
    "from math import pi\n",
    "p = 2                #in atm\n",
    "x = 2.0/1640         #mole fraction\n",
    "W = 44*x + 18*(1-x)  #Molecular wieght of the solution\n",
    "sol = 997.0/W          #Moles of solution per m^3\n",
    "CO2 = 55.4*x         #Moles of CO2 per m^3 solution\n",
    "Cco = 2.3/44         #Concentration of the carbonated solution(kmol/m^3)\n",
    "RoW = 1.0/(60*1000)      #Volume rate of input of water(m^3/s)\n",
    "RoA = RoW*Cco        #rate of absorption of CO2 in the vessel(kmol/s)\n",
    "V = 8e-3             #volume of the gas-liquid dispersion in the vessel(m^3)\n",
    "a = 80               #specific interfacial area of contact between the dispersed gas snd the liquid(m^2/m^3)\n",
    "#let kL = 1\n",
    "kL = 1.0\n",
    "Dab = 1.92e-9        #diffusivity of CO2\n",
    "rateOA = V*a*(CO2-Cco)\n",
    "kL = RoA/rateOA\n",
    "#(a) part\n",
    "delta = Dab/kL\n",
    "print '(a)'\n",
    "print 'Film thickness: %0.2e m'%delta\n",
    "#(b) part\n",
    "tc = (4*Dab)/(pi*(kL**2))\n",
    "print '(b)'\n",
    "print 'The contact time: %0.3f s'%tc\n",
    "#(c) part\n",
    "s = (kL**2)/(Dab)\n",
    "print '(c)'\n",
    "print 'The fractional rate of surface renewal: %0.2f per sec'%s"
   ]
  },
  {
   "cell_type": "markdown",
   "metadata": {},
   "source": [
    "## Example 3.8 Page no. 104"
   ]
  },
  {
   "cell_type": "code",
   "execution_count": 5,
   "metadata": {
    "collapsed": false
   },
   "outputs": [
    {
     "name": "stdout",
     "output_type": "stream",
     "text": [
      "The effluent concentration: 1 kg/m^3\n"
     ]
    }
   ],
   "source": [
    "#given data\n",
    "from math import exp\n",
    "Cb1 = 0          #concentration of the benzoic acid at the inlet\n",
    "Cs = 3.01        #concentration of the liquid in contact with the surface of a sphere\n",
    "dp = 0.8         #diameter of the sphere\n",
    "vo = 2.2         #superficial liquid velocity\n",
    "nu = 0.0095      #kinematic viscosity\n",
    "Dab = 1e-5       #diffusivity of the solute\n",
    "e = 0.4          #bed voidage\n",
    "h = 70           #height of the column\n",
    "QbyA = 2.2       #liquid flow rate per unit area of the bed\n",
    "Re = (dp*vo)/nu  #Reynolds number\n",
    "Sc = nu/Dab      #Schmidt number\n",
    "ejd = 0.25*((Re)**(-0.31))    #epsilon*jD\n",
    "Sh = ejd*Re*(Sc**(1.0/3))/e   #Sherwood number\n",
    "kL = Sh*Dab/(dp)\n",
    "a = 6*(1-e)/dp   #specific interfacial velocity\n",
    "Cb2 = Cs-((Cs)/exp(kL*a*h/(QbyA)))\n",
    "print 'The effluent concentration: %i kg/m^3'%round(Cb2,1)"
   ]
  }
 ],
 "metadata": {
  "kernelspec": {
   "display_name": "Python 2",
   "language": "python",
   "name": "python2"
  },
  "language_info": {
   "codemirror_mode": {
    "name": "ipython",
    "version": 2
   },
   "file_extension": ".py",
   "mimetype": "text/x-python",
   "name": "python",
   "nbconvert_exporter": "python",
   "pygments_lexer": "ipython2",
   "version": "2.7.11"
  }
 },
 "nbformat": 4,
 "nbformat_minor": 0
}
