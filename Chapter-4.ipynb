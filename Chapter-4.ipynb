{
 "cells": [
  {
   "cell_type": "markdown",
   "metadata": {},
   "source": [
    "# Chapter 4 : Interphase Mass Transfer"
   ]
  },
  {
   "cell_type": "markdown",
   "metadata": {},
   "source": [
    "## Example 4.1 Page no. 133"
   ]
  },
  {
   "cell_type": "code",
   "execution_count": 2,
   "metadata": {
    "collapsed": false
   },
   "outputs": [
    {
     "name": "stdout",
     "output_type": "stream",
     "text": [
      "(a) The interfacial concentrations are\n",
      "    xi = 0.03044  and yi = 0.03653\n",
      "\n",
      "(b) The overall gas-phase coefficient, Ky = 2.502 kmol/(h)(m^2)(dy)\n",
      "    The overall liquid-phase coefficients, Kx = 3.002 kmol/(h)(m^2)(dy)\n",
      "\n",
      "(c) The local mass flux, Na = 0.025 kmol/(h)(m^2)\n",
      "    Fraction of the total mass transfer resistance in the gas-phase = 0.347\n",
      "    Fraction of the total mass transfer resistance in the liquid-phase = 0.653\n"
     ]
    }
   ],
   "source": [
    "#Overall coefficient and driving force\n",
    "\n",
    "yb = 0.04             #bulk concentration of A in the gas-phase\n",
    "xbst = yb/1.2         #xb star(equilibrium value)\n",
    "xb = 0.025            #actual concentration of the solute in the bulk liquid\n",
    "m = 1.2               #slope of the equilibrium line\n",
    "#on gas phase basis\n",
    "diff1 = 0.04 - (1.2*xb)\n",
    "#on liquid phase basis\n",
    "diff2 = xbst - xb\n",
    "\n",
    "ky = 7.2             #local individual mass transfer coefficients\n",
    "kx = 4.6\n",
    "xi = 0.03044         #interfacial concentration\n",
    "yi = 1.2*xi\n",
    "\n",
    "Ky = 1.0/((1.0/ky)+(m/kx))             #overall gas-phase coefficient\n",
    "Kx = 1.0/((1.0/(m*ky) + (1.0/kx)))     #overall liquid-phase coefficient\n",
    "Na = ky*(yb - yi)\n",
    "Mtrg = (1.0/ky)/(1.0/Ky)               #fraction of the total mass transfer resistance in the gas-phase\n",
    "Mtrl = (1.0/kx)/(1.0/Kx)               #fraction of the total mass transfer resistance in the liquid-phase\n",
    "print '(a) The interfacial concentrations are'\n",
    "print '    xi = %0.5f'%xi,' and yi = %0.5f'%yi\n",
    "print\n",
    "print '(b) The overall gas-phase coefficient, Ky = %0.3f'%Ky,'kmol/(h)(m^2)(dy)'\n",
    "print '    The overall liquid-phase coefficients, Kx = %0.3f'%Kx,'kmol/(h)(m^2)(dy)'\n",
    "print\n",
    "print '(c) The local mass flux, Na = %0.3f'%Na,'kmol/(h)(m^2)'\n",
    "print '    Fraction of the total mass transfer resistance in the gas-phase = %0.3f'%Mtrg\n",
    "print '    Fraction of the total mass transfer resistance in the liquid-phase = %0.3f'%Mtrl"
   ]
  },
  {
   "cell_type": "markdown",
   "metadata": {},
   "source": [
    "## Example 4.2 Page no. 134"
   ]
  },
  {
   "cell_type": "code",
   "execution_count": 3,
   "metadata": {
    "collapsed": false
   },
   "outputs": [
    {
     "name": "stdout",
     "output_type": "stream",
     "text": [
      "Given mass transfer flux is 1.2 kmol/(h)(m^2) and Theorectical flux is 1.417\n",
      "The actual overall coefficient is 21.43 kmol/(h)(m^2)(dy)\n",
      "The interfacial resistance is 0.00714 (h)(m^2)(dy)/kmol\n"
     ]
    }
   ],
   "source": [
    "#Interfacial resistance to mass transfer\n",
    "\n",
    "#local individual mass transfer coefficients\n",
    "ky = 60\n",
    "kx = 35\n",
    "#slope of the equilibrium line\n",
    "m = 0.8\n",
    "#local mass transfer flux\n",
    "Nag = 1.2\n",
    "yb = 0.08\n",
    "xb = 0.03\n",
    "ybst = m*xb\n",
    "Ky = 1.0/((1.0/ky)+(m/kx))      #overall mass transfer coefficient\n",
    "Na = Ky*(yb - ybst)             #theoretical flux\n",
    "print 'Given mass transfer flux is %0.1f'%Nag,'kmol/(h)(m^2) and Theorectical flux is %0.3f'%Na\n",
    "Kytrue = (Nag)/(yb - m*xb)\n",
    "resis = (1/Kytrue) - (1/Ky)\n",
    "print 'The actual overall coefficient is %0.2f'%Kytrue,'kmol/(h)(m^2)(dy)'\n",
    "print 'The interfacial resistance is %0.5f'%resis,'(h)(m^2)(dy)/kmol'"
   ]
  },
  {
   "cell_type": "markdown",
   "metadata": {},
   "source": [
    "## Example 4.3 Page no. 134"
   ]
  },
  {
   "cell_type": "code",
   "execution_count": 4,
   "metadata": {
    "collapsed": false
   },
   "outputs": [
    {
     "name": "stdout",
     "output_type": "stream",
     "text": [
      "(a) Flux of the solute, Na = 0.01919kmol/(h)(m^2)\n",
      "(b) The local flux, Na = 0.00124\n",
      "(c) The overall liquid-phase mass transfer coefficient is, Kx = 21.55kmol/(h)(m^2)(dx)\n",
      "(d) Individual gas-phase driving force = 0.0037 mole fraction\n",
      "    Difference of partial pressure = 0.00536 bar\n",
      "    Overall Gas-phase driving force = 0.0272\n"
     ]
    }
   ],
   "source": [
    "#Application to a gas-liquid system\n",
    "\n",
    "P = 1.45             #Total pressure\n",
    "mp = 3.318e4        #slope of the equilibrium relation given in the terms of partial pressure\n",
    "xs = 0.065           #mole fraction of the solute in the bulk gas\n",
    "pb = P*xs            #partial pressure of the solute A in the bulk gas\n",
    "T = 303              #Temperature of the falling water\n",
    "R = 0.08317          #universal gas constant\n",
    "kc = 90.3            #gas-phase mass transfer coefficient\n",
    "ky = P*kc/(R*T)      #gas-phase mass transfer coefficient\n",
    "xi = 0.00201         #interfacial concentration of the solute in the liquid\n",
    "yb = xs\n",
    "fr = 0.136           #fraction of the gas-phase resistance\n",
    "pi = mp*xi            #in mmHg\n",
    "pi = pi*1.013/760    #in bar\n",
    "yi = pi/P\n",
    "m = mp/(P*(760/1.013))\n",
    "Na = ky*(yb - yi)\n",
    "print '(a) Flux of the solute, Na = %0.5fkmol/(h)(m^2)'%Na\n",
    "gR = (1/ky)\n",
    "tmR = gR/0.136\n",
    "lR = tmR*(1-0.136)\n",
    "kx = m/lR\n",
    "Nanew = xi - (Na/kx)\n",
    "print '(b) The local flux, Na = %0.5f'%Nanew\n",
    "Kx = 1/((1/kx) + (1/(m*ky)))\n",
    "print '(c) The overall liquid-phase mass transfer coefficient is, Kx = %0.2fkmol/(h)(m^2)(dx)'%Kx\n",
    "deltay = yb - yi\n",
    "deltap = P*deltay\n",
    "deltayO = yb - m*Nanew\n",
    "print '(d) Individual gas-phase driving force = %0.4f mole fraction'%deltay\n",
    "print '    Difference of partial pressure = %0.5f bar'%deltap\n",
    "print '    Overall Gas-phase driving force = %0.4f'%deltayO\n",
    "#Answers may vary very little due to round off error"
   ]
  },
  {
   "cell_type": "markdown",
   "metadata": {
    "collapsed": true
   },
   "source": [
    "## Example 4.4 Page no. 136"
   ]
  },
  {
   "cell_type": "code",
   "execution_count": 5,
   "metadata": {
    "collapsed": false
   },
   "outputs": [
    {
     "name": "stdout",
     "output_type": "stream",
     "text": [
      "(a)  Concentration of SO2 in the effluent solution: 1.495e-03 mole fraction\n",
      "     Liquid phase mass transfer coefficient: 25.7143 kmol/(h)(m^2)(dx)\n",
      "     The surface renewal rate is: 10.9474 per second\n",
      "(b)  New flow rate of water through the cell: 91.3 ml/min\n"
     ]
    }
   ],
   "source": [
    "#Mass transfer in a continuous-stirred cell\n",
    "\n",
    "from sympy.solvers import solve\n",
    "from sympy import Symbol\n",
    "Yin = 0.142/(1 - 0.142)            #14.2% SO2 was in gas flow rate\n",
    "Yout = 0.11/(1 - 0.11)             #As 11% SO2 is in outlet gas at steady state\n",
    "Qair = 0.0535                      #on SO2-free basis(flow rate)\n",
    "ABspt = Qair*(Yin - Yout)          #Rate of absorption\n",
    "Qwater = 27                        #Water flow rate(in ml/min)\n",
    "Qwater = Qwater/18                 #in gmol/min\n",
    "xb = ABspt/1.5                     #bulk concentration of the liquid\n",
    "print '(a)  Concentration of SO2 in the effluent solution: %0.3e mole fraction'%xb\n",
    "yb = 0.11                          #bulk concentration of the gas-phase\n",
    "m = 31.3                           #slope of the equilibrium concentratin line\n",
    "ybst = m*xb\n",
    "Dab = 1.51e-5                      #diffusivity of SO2 in water\n",
    "ky = 3.8                           #gas-phase mass transfer coefficient\n",
    "ABspt = ABspt*60/1000              #in kmol/h\n",
    "Area = 31.5/10000                  #in m^2\n",
    "Ky = ABspt/(Area*(yb-ybst))        #overall mass-transfer coefficient\n",
    "kx = m/((1/Ky)-(1/ky))\n",
    "print '     Liquid phase mass transfer coefficient: %0.4f kmol/(h)(m^2)(dx)'%kx\n",
    "#to calculate surface renewal rate\n",
    "C = 1.0/(18.0/1000)                    #in kmol/m^3\n",
    "kl = kx/C\n",
    "kl = kl*100/3600\n",
    "s = (kl*kl)/Dab\n",
    "print '     The surface renewal rate is: %0.4f per second'%s\n",
    "yb=0.1\n",
    "nABspt = Qair*(Yin - (yb/0.9))\n",
    "var = Symbol('var')\n",
    "ybst = solve(nABspt*0.001*60 - Ky*Area*(yb-var),var)\n",
    "xb = ybst[0]/m\n",
    "Q = nABspt*18/xb\n",
    "print '(b)  New flow rate of water through the cell: %0.1f ml/min'%Q\n",
    "#Answers may vary due to round-off error"
   ]
  },
  {
   "cell_type": "markdown",
   "metadata": {},
   "source": [
    "## Example 4.5 Page no. 137"
   ]
  },
  {
   "cell_type": "code",
   "execution_count": 95,
   "metadata": {
    "collapsed": false,
    "scrolled": false
   },
   "outputs": [
    {
     "name": "stdout",
     "output_type": "stream",
     "text": [
      "(a) Interfacial concentration of the phases are xi = 0.00222  and yi = 0.0157.\n",
      "(b) Ky = 7.28\n",
      "    Kx = 41.2\n",
      "    Na = 0.065\n"
     ]
    },
    {
     "data": {
      "image/png": "[encoded data removed]",
      "text/plain": [
       "<matplotlib.figure.Figure at 0x8f263c8>"
      ]
     },
     "metadata": {},
     "output_type": "display_data"
    }
   ],
   "source": [
    "#Graphical determination of interfacial concentration\n",
    "\n",
    "%matplotlib inline\n",
    "import matplotlib.pyplot as plt\n",
    "import numpy as np\n",
    "from sympy.solvers import solve\n",
    "from sympy import Symbol\n",
    "#equilibrium data\n",
    "p = [0.6,1.7,4.7,8.1,11.8,19.7,36,52,79]       #partial pressure\n",
    "g = [0.02,0.05,0.1,0.15,0.2,0.3,0.5,0.7,1.0]   #g SO2 per 100g water\n",
    "P = 4.5             #total pressure\n",
    "kx = 80             #gas-phase mass transfer coefficients\n",
    "ky = 15             #liquid-phase mass transfer coefficients\n",
    "P = P*760/1.013     #in mmHg\n",
    "x = []\n",
    "y = []\n",
    "i = 0\n",
    "for i in range(0,len(p)):\n",
    "    y.append(p[i]/P)\n",
    "for i in range(0,len(g)):\n",
    "    x.append(((g[i]/64)/((g[i]/64)+(100/18))))\n",
    "fig = plt.figure()\n",
    "ax = fig.add_subplot(111)\n",
    "plt.plot(x,y,label='Exact plot')\n",
    "#Point P\n",
    "xb = 0.0014                     #the bulk concentration of two phases at the given locations\n",
    "yb = 0.02\n",
    "slope = -80.0/15\n",
    "z = np.polyfit(x,y,2)\n",
    "f = np.poly1d(z)\n",
    "#calculate new x's and y's\n",
    "x_new = np.linspace(x[0],x[-1],50)\n",
    "y_new = f(x_new)\n",
    "plt.plot(x_new,y_new,'r',label='After cuvefitting')\n",
    "#finding the intersection point\n",
    "xs = Symbol('xs')\n",
    "x_int = solve(z[0]*xs**2 + z[1]*xs + z[2] + 5.3*xs - 0.0275,xs)\n",
    "y_int = slope*x_int[1] + 0.0275\n",
    "plt.plot(xb,yb,'bo')\n",
    "plt.plot(x_int[1],y_int,'bo')\n",
    "plt.plot((xb,x_int[1]),(yb,y_int),'b-')\n",
    "plt.legend(bbox_to_anchor=(1.05, 1), loc=2, borderaxespad=0.)\n",
    "plt.xlabel('mol fraction \"x\"',fontsize=16)\n",
    "plt.ylabel('mol fraction \"y\"',fontsize=16)\n",
    "plt.title('Plot of equilibrium line and calculating interfacial concentration',fontsize=14)\n",
    "xy=(xb,yb)\n",
    "ax.annotate('(%s, %s)' % xy, xy=xy, textcoords='data')\n",
    "xint = '%0.5f'%x_int[1]\n",
    "yint = '%0.4f'%y_int\n",
    "xy=(xint,yint)\n",
    "ax.annotate('(%s, %s)' % xy, xy=xy, textcoords='data')\n",
    "print '(a) Interfacial concentration of the phases are xi = %0.5f'%x_int[1],' and yi = %0.4f.'%y_int\n",
    "m = 5.65                  #taking the equilibrium line almost linear near interfacial concentration\n",
    "Ky = 1.0/((1.0/15)+(m/80))\n",
    "Kx = 1.0/((1.0/(m*15))+(1.0/80))\n",
    "Na = ky*(yb-y_int)\n",
    "print '(b) Ky = %0.2f'%Ky\n",
    "print '    Kx = %0.1f'%Kx\n",
    "print '    Na = %0.3f'%Na\n",
    "#Answers may vary due to round-off errors"
   ]
  },
  {
   "cell_type": "markdown",
   "metadata": {},
   "source": [
    "## Example 4.6 Page no. 148"
   ]
  },
  {
   "cell_type": "code",
   "execution_count": 113,
   "metadata": {
    "collapsed": false
   },
   "outputs": [
    {
     "name": "stdout",
     "output_type": "stream",
     "text": [
      "Operating line is  Yn+1  = 1.455Xn  + 0.001360\n",
      "Number of real trays = 59\n"
     ]
    }
   ],
   "source": [
    "#Number of trays for countercurrent contact\n",
    "\n",
    "from math import log\n",
    "from sympy import Symbol\n",
    "F_C = 0.12         #feed concentration\n",
    "Gs = 6000*(1-F_C)  #feed rate on solute free basis\n",
    "s = 6000*F_C       #mass of solute entering\n",
    "Yn = F_C/(1-F_C)   #feed concentration\n",
    "Y1 = 0.00136       #exit concentration\n",
    "Xo = 0             #entering solvent does not have any solute in it\n",
    "Ls = 7685          #solvent input rate\n",
    "#doing mass balance\n",
    "X1 = Gs*(Yn - Y1)/Ls    #exit concentration of solute\n",
    "Yn = Symbol('Yn+1')\n",
    "sl = (Ls/Gs)\n",
    "print 'Operating line is ',Yn,' = %0.3fXn'%sl,' + %f'%Y1\n",
    "#Since the equilibrium line and operating lines are linear\n",
    "#Therefore we can calculate the number of trays using Kremser equation\n",
    "Yn = F_C/(1-F_C)\n",
    "alpha = 1.32         #slope of the equilibrium line \n",
    "A = Ls/(alpha*Gs)    #Absorption factor\n",
    "#using Kremser equation\n",
    "N = log(((Yn-(alpha*Xo))/(Y1-(alpha*Xo)))*(1-(1.0/A))+(1.0/A))/log(A)\n",
    "Nom = N/0.4\n",
    "print 'Number of real trays = %d'%Nom"
   ]
  },
  {
   "cell_type": "markdown",
   "metadata": {
    "collapsed": true
   },
   "source": [
    "## Example 4.7 Page no. 151"
   ]
  },
  {
   "cell_type": "code",
   "execution_count": 37,
   "metadata": {
    "collapsed": false
   },
   "outputs": [
    {
     "name": "stdout",
     "output_type": "stream",
     "text": [
      "(a) The test data fit the Freundlich adsorption isotherm in the form Y = aX^B\n",
      "    After fitting the data alpha is 0.184  and beta is 1.468\n",
      "(b) Amount of adsorbent required 609.545 kg\n"
     ]
    }
   ],
   "source": [
    "#Batch adsorption from a solution\n",
    "\n",
    "%matplotlib inline\n",
    "from math import log\n",
    "from math import exp\n",
    "import numpy as np\n",
    "import matplotlib.pyplot as plt\n",
    "cl = [15,40,60,100,135,210,325,450]             #grams of clay used\n",
    "pA = [9.1,7.81,6.93,5.66,4.76,3.38,2.44,1.48]   #% A in the solution in equilibrium\n",
    "i=0\n",
    "X = []\n",
    "Y = []\n",
    "for i in range(0,len(cl)):\n",
    "    X.append(log((100-((90000/(100-pA[i]))-900))/cl[i]))\n",
    "    Y.append(log(((90000/(100-pA[i]))-900)/900))\n",
    "#fitting the log-log data with degree 1\n",
    "z = np.polyfit(X,Y,1)\n",
    "f = np.poly1d(z)\n",
    "print '(a) The test data fit the Freundlich adsorption isotherm in the form Y = aX^B'\n",
    "print '    After fitting the data alpha is %0.3f'%exp(z[1]),' and beta is %0.3f'%z[0]\n",
    "ads = 90           #amount of solute to be removed(in kg)\n",
    "solv = 900         #amount of water remained(in kg)\n",
    "Y = 10.0/solv\n",
    "#putting in Freundlich adsorption isotherm\n",
    "m = 90.0/(Y/exp(z[1]))**(1/z[0])\n",
    "print '(b) Amount of adsorbent required %0.3f kg'%m\n",
    "#Answers may vary due to round-off error"
   ]
  },
  {
   "cell_type": "markdown",
   "metadata": {},
   "source": [
    "## Example 4.9 Page no. 154"
   ]
  },
  {
   "cell_type": "code",
   "execution_count": 24,
   "metadata": {
    "collapsed": false
   },
   "outputs": [
    {
     "name": "stdout",
     "output_type": "stream",
     "text": [
      "(a) Amount of solvent B required in single stage contact is 4306.7\n",
      "(b) The total amount of extracting solvent required is 1166 kg\n",
      "(c) Required amount of solvent is 679.03 kg\n"
     ]
    }
   ],
   "source": [
    "#Multistage crosscurrent contact\n",
    "\n",
    "from sympy import Symbol\n",
    "from sympy.solvers import solve\n",
    "from math import log\n",
    "Ls = 1000*(1-0.15)         #amount of the carrier phase in the feed\n",
    "Xo = 15.0/85               #feed concentration\n",
    "e_con = 0.15*0.05/0.85     #exit concentration\n",
    "Y1 = 3.75*e_con            #equilibrium concentration\n",
    "Yo = 0\n",
    "Gs = 850*(Xo-e_con)/Y1\n",
    "print '(a) Amount of solvent B required in single stage contact is %0.1f'%Gs\n",
    "#an ideal three-stage crosscurrent cascade\n",
    "#X1,X2,X3 are the intermediate concentrations\n",
    "Gsn = Symbol('Gsn')\n",
    "X1 = Symbol('X1')\n",
    "X1 = solve(850*(0.1765-X1)-Gsn*3.75*X1,X1)\n",
    "X2 = Symbol('X2')\n",
    "X2 = solve(850*(X2-0.00882)-Gsn*3.75*0.00882,X2)\n",
    "Gsn = solve(850*(X1[0]-X2[0])-Gsn*3.75*X2[0],Gsn)\n",
    "nGs = 3*Gsn[0]       #total amount of solvent\n",
    "print '(b) The total amount of extracting solvent required is %0.0f kg'%nGs\n",
    "#using material balance for nth stage and then integrating from X= Xo to X = Xf = 0.00882\n",
    "Gs = (850/3.75)*log(Xo/e_con)\n",
    "print '(c) Required amount of solvent is %0.2f kg'%Gs\n",
    "#Answers may vary due to round-off error"
   ]
  },
  {
   "cell_type": "markdown",
   "metadata": {},
   "source": [
    "## Example 4.11 Page no. 158"
   ]
  },
  {
   "cell_type": "code",
   "execution_count": 25,
   "metadata": {
    "collapsed": false
   },
   "outputs": [
    {
     "name": "stdout",
     "output_type": "stream",
     "text": [
      "Flux of the drug, Na = 2.72e-03 mg/cm^2.h\n"
     ]
    }
   ],
   "source": [
    "#Rate of drug delivery\n",
    "\n",
    "Cml = 0.513              #solubility of progesterone in the polymer(mg/cm^3)\n",
    "beta = 0.022             #partition coefficient\n",
    "Clb = 0                  #drug concentration in the body fluid\n",
    "Dm = 5.94e-3             #diffusivity of the drug in the polymer(in cm^2/h)\n",
    "Dl = 2.08e-3             #diffudivity of the drug in the body(cm^2/h)\n",
    "lm = 0.08                #thickness of the silicone membrane(cm)\n",
    "dl = 0.008               #thickness of the diffusion fluid layer(cm)\n",
    "Na = (beta*Cml - Clb)/((beta*lm/Dm)+(dl/Dl))\n",
    "print 'Flux of the drug, Na = %0.2e mg/cm^2.h'%Na"
   ]
  }
 ],
 "metadata": {
  "kernelspec": {
   "display_name": "Python 2",
   "language": "python",
   "name": "python2"
  },
  "language_info": {
   "codemirror_mode": {
    "name": "ipython",
    "version": 2
   },
   "file_extension": ".py",
   "mimetype": "text/x-python",
   "name": "python",
   "nbconvert_exporter": "python",
   "pygments_lexer": "ipython2",
   "version": "2.7.11"
  }
 },
 "nbformat": 4,
 "nbformat_minor": 0
}
