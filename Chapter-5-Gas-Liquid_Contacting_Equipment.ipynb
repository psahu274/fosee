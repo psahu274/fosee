{
 "cells": [
  {
   "cell_type": "markdown",
   "metadata": {},
   "source": [
    "# Chapter 5 Gas-Liquid Contacting Equipment"
   ]
  },
  {
   "cell_type": "markdown",
   "metadata": {},
   "source": [
    "## Example 5.1 Page no. 201"
   ]
  },
  {
   "cell_type": "code",
   "execution_count": 8,
   "metadata": {
    "collapsed": false
   },
   "outputs": [
    {
     "name": "stdout",
     "output_type": "stream",
     "text": [
      "(a) Tower diameter by Fair's method is 6.42 ft\n",
      "    Flooding velocity by Fair's method is 5 ft\n",
      "    Flooding velocity by Kister ans Haas method is 4.86 ft/s\n",
      "    It is very close that is obtained by Fairs method and is acceptable\n",
      "(b) Downcomer area = 1.767 ft^2  and downcomer liquid velocity = 0.105 ft/s\n",
      "    These are acceptable values. So we keep the revised column diameter at Dc = 6.12 ft\n",
      "(c) Number of holes = 3004 placed on a triangular pitch\n",
      "(d) Select an outlet weir height of hw = 2 inches on the tray\n",
      "(e) Dry tray pressure drop, hd = 1.75 inches of liquid\n",
      "    how = 0.92 inch\n",
      "    pressure drop for flow of the vapour through the liquid\n",
      "    head loss for liquid flow below the downcomer flow, had = 0.85 inch\n",
      "    total pressure drop = 7.27 inch of liquid\n",
      "    The rate of entrainment is 0.0357 mol per mol gross downflow\n",
      "    The corresponding vapour velocity at the hole at weeping is 22.5 ft/s\n",
      "Total column height = 60 ft\n"
     ]
    }
   ],
   "source": [
    "#Design of a sieve tray\n",
    "\n",
    "from math import pi\n",
    "from math import sqrt\n",
    "tL = 14100.0      #top liquid rate(kg/h)\n",
    "bL = 15300.0      #Bottom liquid rate(kg/h)\n",
    "tG = 23300.0      #top vapour rate(kg/h)\n",
    "bG = 24500.0      #Bottom vapour rate(kg/h)\n",
    "phoL = 810.0      #liquid density(kg/m^3)\n",
    "phoG = 2.65     #average vapour density(kg/m^3)\n",
    "sig = 20.5      #liquid surface tension(dyne/cm)\n",
    "T = 82.0          #Temperature\n",
    "p = 18.0          #average pressure at the column top(psia)\n",
    "#Fair's method\n",
    "Flv = (bL/bG)*(phoG/phoL)**(0.5)     #Flow parameter\n",
    "Csb = 0.285       #Souders-Brown flooding constant\n",
    "usfl = Csb*((20/sig)**0.2)*(((50.4-0.165)/(0.165))**0.5)     #flooding velocity\n",
    "us = 5*0.7          #operating velocity when operating velocity is 70% of flooding velocity\n",
    "Vfl = (bG/phoG)*35.315     #Volumetric flow rate of the vapour\n",
    "Aa = Vfl/(us*3600)\n",
    "fd = 0.2            #taking fractional downcomer area\n",
    "At = Aa/(1-fd)      #Tower cross-section\n",
    "Dc = (4*32.4/pi)**(0.5)     #Tower diameter\n",
    "print \"(a) Tower diameter by Fair's method is %0.2f ft\"%Dc\n",
    "print \"    Flooding velocity by Fair's method is %0.0f ft\"%usfl\n",
    "\n",
    "#Kister and Haas method\n",
    "dh = 3.0/8          #hole diameter\n",
    "Af = 0.1            #fractional hole area on the tray\n",
    "Dc = 6\n",
    "lw = 0.727*Dc\n",
    "L = bL/(0.81*3.78*60)      #Liquid rate(gpm)\n",
    "Ql = 83.3/(lw*12)          #gpm per inch\n",
    "fh = 0.1\n",
    "hctw = (0.29*(0.1**-0.791)*(dh**0.833))/(1+(0.0036*(1.6**-0.59)*(0.1**-1.79)))\n",
    "n = 0.0231*(dh/0.1)\n",
    "hct = hctw*(62.2/50.4)**(0.5*(1-0.0866))\n",
    "Csb = 0.144*((dh*dh*20.5/50.4)**0.125)*((0.165/50.4)**0.1)*((18/0.749)**0.5)\n",
    "usfl = Csb*((50.4-0.165)/0.165)**0.5\n",
    "print '    Flooding velocity by Kister ans Haas method is %0.2f ft/s'%usfl\n",
    "print '    It is very close that is obtained by Fairs method and is acceptable'\n",
    "#(b)Check of the estimated downcomer area\n",
    "area = 3.38               #Estimated downcomer area\n",
    "liq_f = 15300*35.315/(810*3600)  #The clear liquid flow rate\n",
    "liq_v = liq_f*area        #The downcomer liquid velocity\n",
    "d_vol = area*18/12        #Downcomer volume\n",
    "res_t = d_vol/liq_f       #Residence time\n",
    "n_ar = Aa/(1-(2*0.06))    #Revised tower cross-section\n",
    "Dc = (4*n_ar/pi)**0.5     #Tower diameter\n",
    "d_area = n_ar*0.06        #Downcomer area\n",
    "lw = 3.75                 #Weir length\n",
    "d_liqv = liq_f/d_area     #downcomer liquid velocity\n",
    "print '(b) Downcomer area = %0.3f ft^2'%d_area,' and downcomer liquid velocity = %0.3f ft/s'%d_liqv\n",
    "print '    These are acceptable values. So we keep the revised column diameter at Dc = %0.2f ft'%Dc\n",
    "#(c)Effective bubbling area and layout of the holes\n",
    "eff_area = Aa-3           #effective bubbling area\n",
    "frac_area = 0.905*(1.0/3)*(1.0/3)\n",
    "tot_harea = eff_area*frac_area\n",
    "n_holes = tot_harea/((pi/4)*((3.0/96)**2))\n",
    "print '(c) Number of holes = %0.0f placed on a triangular pitch'%n_holes\n",
    "#(d)Wier height\n",
    "hw = 2\n",
    "print '(d) Select an outlet weir height of hw = %0.0f inches on the tray'%hw\n",
    "#(e)Pressure drop calculation\n",
    "uh = Vfl/(tot_harea*3600)        #Vapour velocity through the holes\n",
    "thick = 3.0/16                  #select a tray thickness\n",
    "thbyD = thick/(3.0/8)           #tray thickness/hole dia\n",
    "Co = 0.73                       #the orifice coefficient\n",
    "hd = (0.186/(Co**2))*(0.165/50.4)*(39.1**2)         #Dry tray pressure drop\n",
    "print '(e) Dry tray pressure drop, hd = %0.2f inches of liquid'%hd\n",
    "Ql = 83.3/(lw*12)               #in gpm per inch of weir length\n",
    "Fw = 1.27                       #weir correction factor\n",
    "how = 0.48*Fw*(Ql**(2.0/3))     \n",
    "print '    how = %0.2f inch'%how\n",
    "hc = hw + how\n",
    "us = 326500/(22.9*3600)\n",
    "beta = 0.6\n",
    "hl = 0.6*2.92          #first calculate us and us(pg^0.5) and then from figure take beta\n",
    "print '    pressure drop for flow of the vapour through the liquid'\n",
    "Ada = 0.5*3.75/12         #area for liquid flow\n",
    "had = 0.03*(83.3/(100*Ada))**2  \n",
    "print '    head loss for liquid flow below the downcomer flow, had = %0.2f inch'%had\n",
    "print '    total pressure drop = %0.2f inch of liquid'%(hc+hd+hl+had)\n",
    "phi = (bL/bG)*(0.165/50.4)**0.5\n",
    "print '    The rate of entrainment is %0.4f mol per mol gross downflow'%phi\n",
    "sig = 20.5       #in dyne/cm\n",
    "phol = 50.4      #lb/ft^3\n",
    "dH = 3.0/8       #in inch\n",
    "hsig = (0.04*sig)/(phol*dH)   \n",
    "hd = 0.58\n",
    "uh = sqrt(((0.73**2)/0.186)*(50.4*hd/0.165))\n",
    "print '    The corresponding vapour velocity at the hole at weeping is %0.1f ft/s'%uh\n",
    "#column height\n",
    "height = 29*1.5\n",
    "ex_sp = 3*0.5\n",
    "tot_h = 43.5+1.5+1.5+9+4\n",
    "#total column height will be tray spacing + extra space for feed trays\n",
    "# + extra space at trays with manholes + bottom space + top space\n",
    "print 'Total column height = %0.0f ft'%tot_h\n",
    "#Answers may vary due to round off error"
   ]
  },
  {
   "cell_type": "markdown",
   "metadata": {
    "collapsed": true
   },
   "source": [
    "## Example 5.2 Page no. 237"
   ]
  },
  {
   "cell_type": "code",
   "execution_count": 32,
   "metadata": {
    "collapsed": false
   },
   "outputs": [
    {
     "name": "stdout",
     "output_type": "stream",
     "text": [
      "Tower diameter when raschig ring is used as packing material, Dc = 0.90 m\n",
      "Tower diameter, Dc when Pall ring is used, = 0.68 m\n",
      "Power requirement is 287.25W\n",
      "Actual Power requirement is 441.92W\n",
      "volume fraction liquid holdup in the bed 0.0725 m^3 liquid per m^3 bed volume\n"
     ]
    }
   ],
   "source": [
    "#Design of packed tower\n",
    "\n",
    "from math import pi\n",
    "from math import sqrt\n",
    "L = 37525        #Liquid rate\n",
    "G = 1500.0       #gas rate\n",
    "M = 0.9*28.8 + (0.1*64)    #average molecular weight of the feed gas\n",
    "R = 0.08317   #gas constant\n",
    "T = 303       #in K\n",
    "P = 1.013     #in bar\n",
    "phoG = P*M/(R*T)      #kg/m^3\n",
    "phoG_c = 0.081          #in lb/ft^3\n",
    "muL = 0.81       #liquid viscosity\n",
    "st = 70          #surface tension\n",
    "phoL = 996       #in kg/m^3\n",
    "phoL_c = 62      #in lb/ft^3\n",
    "Flv = (L/G)*(phoG/phoL)**0.5\n",
    "#Calculation of column diameter using raschig ring as packing material\n",
    "dp = 3.0/4          #size of packing material\n",
    "cp = 0.021          #from Eckert's GPDC chart(capacity parameter)\n",
    "pwbypl = 1          #pho_w by pho_l\n",
    "Fp = 94.5           #packing factor(in per ft)\n",
    "gc = 4.18e8         #in ft/h^2\n",
    "Gdash = sqrt((cp*phoG_c*phoL_c*gc)/(Fp*pwbypl*(muL**0.2)))\n",
    "op_Gdash = Gdash*0.7\n",
    "op_Gdash = op_Gdash*0.453592/(0.3048*0.3048)\n",
    "tow_cross = G/op_Gdash\n",
    "Dc = sqrt(4*tow_cross/pi)\n",
    "print 'Tower diameter when raschig ring is used as packing material, Dc = %0.2f m'%Dc\n",
    "#Calculation of column diameter when 50mm Pall ring is used as packing material\n",
    "cp = 0.52                     #capacity parameter from chart\n",
    "Fp = 25                       #flow parameter\n",
    "v = 0.81                      #liquid viscosity\n",
    "Cs = cp/((Fp**0.5)*(v**0.05)) \n",
    "usG = Cs*sqrt((phoL - phoG)/phoG)  #superficial gas velocity\n",
    "usG = usG*0.3048                 \n",
    "Gflow = G/(phoG*3600)      #volumeteric gas flow rate\n",
    "tow_cros = Gflow/usG       #tower cross section\n",
    "Dc = sqrt(4*tow_cros/pi)   #tower diameter\n",
    "print 'Tower diameter, Dc when Pall ring is used, = %0.2f m'%Dc\n",
    "P_drop = 0.2*(5.0/0.3048)   #pressure drop across the bed of 5m height\n",
    "op_Pdrop = P_drop*1.1\n",
    "op_Pdrop = op_Pdrop*0.0254*phoL*9.81\n",
    "G = G/3600\n",
    "Pow = (op_Pdrop/phoG)*G\n",
    "print 'Power requirement is %0.2fW'%Pow\n",
    "Pow = Pow/0.65\n",
    "print 'Actual Power requirement is %0.2fW'%Pow\n",
    "#calculation of operating liquid holup using Engel's equation\n",
    "ap = 102\n",
    "muL = 8.1e-4     #liquid viscosity\n",
    "sigL = 0.07      #surface tension\n",
    "usL = (L/phoL)/(0.362*3600)    #superficial velocity\n",
    "hLo = 0.93*(((usL**2)*102/9.81)**(1.0/6))*(((muL**2)*(ap**3)/((phoL**2)*9.81))**(1.0/10))*((0.07*102*102/phoL*9.81)**1.0/8)\n",
    "print 'volume fraction liquid holdup in the bed %0.4f m^3 liquid per m^3 bed volume'%hLo\n",
    "#Answers may vary due to round off error"
   ]
  }
 ],
 "metadata": {
  "kernelspec": {
   "display_name": "Python 2",
   "language": "python",
   "name": "python2"
  },
  "language_info": {
   "codemirror_mode": {
    "name": "ipython",
    "version": 2
   },
   "file_extension": ".py",
   "mimetype": "text/x-python",
   "name": "python",
   "nbconvert_exporter": "python",
   "pygments_lexer": "ipython2",
   "version": "2.7.11"
  }
 },
 "nbformat": 4,
 "nbformat_minor": 0
}
